{
 "cells": [
  {
   "cell_type": "code",
   "execution_count": 5,
   "metadata": {},
   "outputs": [
    {
     "data": {
      "text/plain": [
       "'\\n    \\n\\n'"
      ]
     },
     "execution_count": 5,
     "metadata": {},
     "output_type": "execute_result"
    },
    {
     "data": {
      "image/png": "[encoded data removed]",
      "text/plain": [
       "<Figure size 432x288 with 1 Axes>"
      ]
     },
     "metadata": {
      "needs_background": "light"
     },
     "output_type": "display_data"
    }
   ],
   "source": [
    "#DGP\n",
    "\n",
    "#Simulate Data Generating Process\n",
    "#a You do not control for any covariates\n",
    "slope_estimates = []\n",
    "import random\n",
    "import numpy as np\n",
    "import statsmodels.api as sm\n",
    "import matplotlib.pyplot as plt\n",
    "# sample size\n",
    "# n = 100\n",
    "def write_csv(name,X,Y):\n",
    "    with open(name,'a+') as f:\n",
    "        f.write('X,Y\\n')\n",
    "        for x,y in zip(X,Y):\n",
    "            # feature='|'.join(i.feature)\n",
    "            f.write(f'{x},{y}\\n')       \n",
    "        f.close()\n",
    "        \n",
    "for  n in [100,1000]:\n",
    "    for mc_replication in range(n):\n",
    "        a=random.randint(0,1)\n",
    "        b = random.randint(0,0)\n",
    "        X = np.random.uniform(0,1,n)\n",
    "        e = np.random.normal(0,10,n)\n",
    "        Y = a+b*np.log(1+X)+e\n",
    "        mod = sm.OLS(Y,sm.add_constant(X))\n",
    "        res = mod.fit()\n",
    "        slope_estimates = slope_estimates + [res.params[1]]\n",
    "    write_csv(f'./mt_1_1{n}.csv',X,Y)\n",
    "np.mean(slope_estimates)\n",
    "plt.hist(slope_estimates)\n",
    "\n",
    "# write_csv()\n",
    "\"\"\"\n",
    "    \n",
    "\n",
    "\"\"\"\n",
    "\n",
    "#"
   ]
  },
  {
   "cell_type": "code",
   "execution_count": null,
   "metadata": {},
   "outputs": [],
   "source": [
    "import graphviz as gr\n",
    "g = gr.Digraph()\n",
    "\n",
    "g.edge(\"randomly assigned treatmen\", \"interest\")\n",
    "g.edge(\" some observed covariates\", \"interest\")\n",
    "g"
   ]
  },
  {
   "cell_type": "code",
   "execution_count": null,
   "metadata": {},
   "outputs": [],
   "source": [
    "\n"
   ]
  },
  {
   "cell_type": "markdown",
   "metadata": {},
   "source": [
    "example of the outcome of interest depends on a randomly assigned treatment and\n",
    "some observed covariates and do not control for any covariates\n",
    "\n",
    "e : Have attended college or not.\n",
    "Y : Average investments.\n",
    "X : Average wage.\n",
    "b : Average wage."
   ]
  },
  {
   "cell_type": "code",
   "execution_count": 6,
   "metadata": {},
   "outputs": [
    {
     "data": {
      "text/plain": [
       "'\\n\\n\\n'"
      ]
     },
     "execution_count": 6,
     "metadata": {},
     "output_type": "execute_result"
    },
    {
     "data": {
      "image/png": "[encoded data removed]",
      "text/plain": [
       "<Figure size 432x288 with 1 Axes>"
      ]
     },
     "metadata": {
      "needs_background": "light"
     },
     "output_type": "display_data"
    }
   ],
   "source": [
    "#You control for all the covariates that affect the outcome\n",
    "a = .5\n",
    "b =0\n",
    "# n = 100\n",
    "slope_estimates = []\n",
    "# sample size\n",
    "for n in [100,1000]:\n",
    "    for mc_replication in range(n):\n",
    "        X = np.random.uniform(0,1,n)\n",
    "        e = np.random.normal(0,10,n)\n",
    "        Y = a+b*np.log(1+X)+e\n",
    "        mod = sm.OLS(Y,sm.add_constant(X))\n",
    "        res = mod.fit()\n",
    "        slope_estimates = slope_estimates + [res.params[1]]\n",
    "    write_csv(f'./mt_1_2{n}.csv',X,Y)\n",
    "np.mean(slope_estimates)\n",
    "plt.hist(slope_estimates)\n",
    "\n",
    "\"\"\"\n",
    "\n",
    "\n",
    "\"\"\""
   ]
  },
  {
   "cell_type": "code",
   "execution_count": null,
   "metadata": {},
   "outputs": [],
   "source": [
    "#Illustrate your DGP with a DAG\n",
    "import graphviz as gr\n",
    "g = gr.Digraph()\n",
    "\n",
    "g.edge(\"randomly assigned treatmen\", \"interest\")\n",
    "g.edge(\" some observed covariates\", \"interest\")\n",
    "g"
   ]
  },
  {
   "cell_type": "markdown",
   "metadata": {},
   "source": [
    "example of the outcome of interest depends on a randomly assigned treatment and\n",
    "some observed covariates and  control for all the covariates that affect the outcome\n",
    "\n",
    "e : Have attended college or not.\n",
    "Y : Average investments.\n",
    "X : Average wage.\n",
    "b : baise\n",
    "control: the reglate change"
   ]
  },
  {
   "cell_type": "code",
   "execution_count": 7,
   "metadata": {},
   "outputs": [
    {
     "data": {
      "text/plain": [
       "'\\n\\n\\n'"
      ]
     },
     "execution_count": 7,
     "metadata": {},
     "output_type": "execute_result"
    },
    {
     "data": {
      "image/png": "[encoded data removed]",
      "text/plain": [
       "<Figure size 432x288 with 1 Axes>"
      ]
     },
     "metadata": {
      "needs_background": "light"
     },
     "output_type": "display_data"
    }
   ],
   "source": [
    "#2 Simulate a DGP with a confounder (common cause)\n",
    "#You fail to control for the confounder\n",
    "\n",
    "def simulate_data(a, b,n,confounder):\n",
    "        \"\"\"\n",
    "        a: intercept\n",
    "        b: slope\n",
    "        n: sample size\n",
    "        sigma: confounder\n",
    "        Y = a+b*X+e\n",
    "        \"\"\"\n",
    "        X = np.random.uniform(0,1,n)\n",
    "        e = np.random.normal(0,10,n)\n",
    "        Y = a+b*np.log(1+X)+e + confounder\n",
    "        \n",
    "        return (Y,X)\n",
    "a = .5\n",
    "b = 0\n",
    "# n = 100\n",
    "slope_estimates = []\n",
    "# sample size\n",
    "for n in [100,1000]:\n",
    "    for mc_replication in range(n):\n",
    "        confounder = np.random.uniform(0,n)    \n",
    "        X,Y = simulate_data(a, b,n,confounder)\n",
    "        mod = sm.OLS(Y,sm.add_constant(X))\n",
    "        res = mod.fit()\n",
    "        slope_estimates = slope_estimates + [res.params[1]]\n",
    "    write_csv(f'./mt_2_1{n}.csv',X,Y)\n",
    "np.mean(slope_estimates)\n",
    "plt.hist(slope_estimates)\n",
    "\n",
    "\"\"\"\n",
    "\n",
    "\n",
    "\"\"\"\n"
   ]
  },
  {
   "cell_type": "code",
   "execution_count": null,
   "metadata": {},
   "outputs": [],
   "source": [
    "#Illustrate your DGP with a DAG\n",
    "import graphviz as gr\n",
    "g = gr.Digraph()\n",
    "\n",
    "g.edge(\"control randomly assigned treatmen\", \"interest\")\n",
    "g.edge(\"control some observed covariates\", \"interest\")\n",
    "g"
   ]
  },
  {
   "cell_type": "markdown",
   "metadata": {},
   "source": [
    "example of Parents education affects your personal ideology, which is mediated by your parents political ideology (affected by their education level). The other is that your SAT score affects your income level but through college acceptance"
   ]
  },
  {
   "cell_type": "code",
   "execution_count": 8,
   "metadata": {},
   "outputs": [
    {
     "data": {
      "text/plain": [
       "'\\n\\n\\n'"
      ]
     },
     "execution_count": 8,
     "metadata": {},
     "output_type": "execute_result"
    },
    {
     "data": {
      "image/png": "[encoded data removed]",
      "text/plain": [
       "<Figure size 432x288 with 1 Axes>"
      ]
     },
     "metadata": {
      "needs_background": "light"
     },
     "output_type": "display_data"
    }
   ],
   "source": [
    "\n",
    "\n",
    "\n",
    "#. You do control for the confounder\n",
    "\n",
    "a = .5\n",
    "b = 0\n",
    "n = 100\n",
    "slope_estimates = []\n",
    "confounder = np.random.uniform(0,10) \n",
    "# sample size\n",
    "for n in [100,1000]:\n",
    "    for mc_replication in range(n):\n",
    "        \n",
    "        X,Y = simulate_data(a, b,n,confounder)\n",
    "        mod = sm.OLS(Y,sm.add_constant(X))\n",
    "        res = mod.fit()\n",
    "        slope_estimates = slope_estimates + [res.params[1]]\n",
    "    write_csv(f'./mt_2_2{n}.csv',X,Y)\n",
    "np.mean(slope_estimates)\n",
    "plt.hist(slope_estimates)\n",
    "\n",
    "\"\"\"\n",
    "\n",
    "\n",
    "\"\"\""
   ]
  },
  {
   "cell_type": "code",
   "execution_count": null,
   "metadata": {},
   "outputs": [],
   "source": [
    "g = gr.Digraph()\n",
    "\n",
    "\n",
    "\n",
    "g.edge(\"control\", \"confounder\")\n",
    "g.edge(\"confounder\", \"treatment\")\n",
    "g.edge(\"confounder\", \"outcome\")\n",
    "\n",
    "g.edge(\"treatment\", \"outcome\")\n",
    "\n",
    "g"
   ]
  },
  {
   "cell_type": "markdown",
   "metadata": {},
   "source": [
    "For example, if a test paper with 100 multiple-choice questions has a score of one point for each question, and the difficulty is similar, then the score of a person doing this test paper is the sum of 100 random variables"
   ]
  },
  {
   "cell_type": "code",
   "execution_count": null,
   "metadata": {},
   "outputs": [],
   "source": [
    "\n"
   ]
  },
  {
   "cell_type": "code",
   "execution_count": 9,
   "metadata": {},
   "outputs": [
    {
     "data": {
      "text/plain": [
       "'\\n\\n\\n'"
      ]
     },
     "execution_count": 9,
     "metadata": {},
     "output_type": "execute_result"
    },
    {
     "data": {
      "image/png": "[encoded data removed]",
      "text/plain": [
       "<Figure size 432x288 with 1 Axes>"
      ]
     },
     "metadata": {
      "needs_background": "light"
     },
     "output_type": "display_data"
    }
   ],
   "source": [
    "# Simulate a DGP with selection bias into the treatment (variable in between the path from the\n",
    "#treatment to the outcome)\n",
    "#You control for the variable in between the path from cause to effect\n",
    "a = .5\n",
    "b = 1.1\n",
    "n = 100\n",
    "slope_estimates = []\n",
    "confounder =0\n",
    "# sample size\n",
    "for n in [100,1000]:\n",
    "    for mc_replication in range(n):\n",
    "        \n",
    "        X,Y = simulate_data(a, b,n,confounder)\n",
    "        mod = sm.OLS(Y,sm.add_constant(X))\n",
    "        res = mod.fit()\n",
    "        slope_estimates = slope_estimates + [res.params[1]]\n",
    "    write_csv(f'./mt_3_1{n}.csv',X,Y)\n",
    "np.mean(slope_estimates)\n",
    "plt.hist(slope_estimates)\n",
    "\"\"\"\n",
    "\n",
    "\n",
    "\"\"\""
   ]
  },
  {
   "cell_type": "code",
   "execution_count": null,
   "metadata": {},
   "outputs": [],
   "source": [
    "g = gr.Digraph()\n",
    "\n",
    "\n",
    "g.edge(\"bias 1\", \"treatment\")\n",
    "g.edge(\"bias 2\", \"treatment\")\n",
    "\n",
    "g.edge(\"bias 3\", \"treatment\")\n",
    "\n",
    "g"
   ]
  },
  {
   "cell_type": "code",
   "execution_count": 10,
   "metadata": {},
   "outputs": [
    {
     "data": {
      "text/plain": [
       "'\\n\\n\\n'"
      ]
     },
     "execution_count": 10,
     "metadata": {},
     "output_type": "execute_result"
    },
    {
     "data": {
      "image/png": "[encoded data removed]",
      "text/plain": [
       "<Figure size 432x288 with 1 Axes>"
      ]
     },
     "metadata": {
      "needs_background": "light"
     },
     "output_type": "display_data"
    }
   ],
   "source": [
    "#You do not control for the variable in between the path from cause to effect\n",
    "a = .5\n",
    "\n",
    "n = 100\n",
    "slope_estimates = []\n",
    "confounder = 0\n",
    "# sample size\n",
    "for n in [100,1000]:\n",
    "    for mc_replication in range(n):\n",
    "        b = np.random.randint(0,n)\n",
    "        X,Y = simulate_data(a, b,n,confounder)\n",
    "        mod = sm.OLS(Y,sm.add_constant(X))\n",
    "        res = mod.fit()\n",
    "        slope_estimates = slope_estimates + [res.params[1]]\n",
    "    write_csv(f'./mt_3_2{n}.csv',X,Y)\n",
    "np.mean(slope_estimates)\n",
    "plt.hist(slope_estimates)\n",
    "\n",
    "\"\"\"\n",
    "\n",
    "\n",
    "\"\"\""
   ]
  },
  {
   "cell_type": "code",
   "execution_count": 3,
   "metadata": {},
   "outputs": [
    {
     "ename": "NameError",
     "evalue": "name 'gr' is not defined",
     "output_type": "error",
     "traceback": [
      "\u001b[0;31m---------------------------------------------------------------------------\u001b[0m",
      "\u001b[0;31mNameError\u001b[0m                                 Traceback (most recent call last)",
      "\u001b[0;32m/var/folders/37/18qvt__j2gzbv3534qvmt88w0000gn/T/ipykernel_74872/2968304747.py\u001b[0m in \u001b[0;36m<module>\u001b[0;34m\u001b[0m\n\u001b[0;32m----> 1\u001b[0;31m \u001b[0mg\u001b[0m \u001b[0;34m=\u001b[0m \u001b[0mgr\u001b[0m\u001b[0;34m.\u001b[0m\u001b[0mDigraph\u001b[0m\u001b[0;34m(\u001b[0m\u001b[0;34m)\u001b[0m\u001b[0;34m\u001b[0m\u001b[0;34m\u001b[0m\u001b[0m\n\u001b[0m\u001b[1;32m      2\u001b[0m \u001b[0;34m\u001b[0m\u001b[0m\n\u001b[1;32m      3\u001b[0m \u001b[0;34m\u001b[0m\u001b[0m\n\u001b[1;32m      4\u001b[0m \u001b[0mg\u001b[0m\u001b[0;34m.\u001b[0m\u001b[0medge\u001b[0m\u001b[0;34m(\u001b[0m\u001b[0;34m\"bias 1\"\u001b[0m\u001b[0;34m,\u001b[0m \u001b[0;34m\"treatment\"\u001b[0m\u001b[0;34m)\u001b[0m\u001b[0;34m\u001b[0m\u001b[0;34m\u001b[0m\u001b[0m\n\u001b[1;32m      5\u001b[0m \u001b[0mg\u001b[0m\u001b[0;34m.\u001b[0m\u001b[0medge\u001b[0m\u001b[0;34m(\u001b[0m\u001b[0;34m\"bias 2\"\u001b[0m\u001b[0;34m,\u001b[0m \u001b[0;34m\"treatment\"\u001b[0m\u001b[0;34m)\u001b[0m\u001b[0;34m\u001b[0m\u001b[0;34m\u001b[0m\u001b[0m\n",
      "\u001b[0;31mNameError\u001b[0m: name 'gr' is not defined"
     ]
    }
   ],
   "source": [
    "g = gr.Digraph()\n",
    "\n",
    "\n",
    "g.edge(\"bias 1\", \"treatment\")\n",
    "g.edge(\"bias 2\", \"treatment\")\n",
    "\n",
    "g.edge(\"bias 3\", \"treatment\")\n",
    "\n",
    "g"
   ]
  },
  {
   "cell_type": "markdown",
   "metadata": {},
   "source": [
    "• approximately 68% of the scores are between 1000 and 1300, within 1 standard deviation of the mean.\n",
    "• approximately 95% of the scores are between 850 and 1450, within 2 standard deviations of the mean.\n",
    "• approximately 99.7% of the scores are between 700 and 1600, within 3 standard deviations of the mean."
   ]
  },
  {
   "cell_type": "code",
   "execution_count": 11,
   "metadata": {},
   "outputs": [
    {
     "data": {
      "text/plain": [
       "'\\n\\n\\n'"
      ]
     },
     "execution_count": 11,
     "metadata": {},
     "output_type": "execute_result"
    },
    {
     "data": {
      "image/png": "[encoded data removed]",
      "text/plain": [
       "<Figure size 432x288 with 1 Axes>"
      ]
     },
     "metadata": {
      "needs_background": "light"
     },
     "output_type": "display_data"
    }
   ],
   "source": [
    "#Simulate a DGP where the outcome variable is overrepresented at 0.\n",
    "#You estimate the treatment effect parameter using the Conditional-on-Positives (COP) framework\n",
    "miu=10\n",
    "sigma=0\n",
    "a=random.gauss(miu,sigma)\n",
    "for n in [100,1000]:\n",
    "    for mc_replication in range(100):\n",
    "        b = np.random.randint(0,n)\n",
    "        X,Y = simulate_data(a, b,n,confounder)\n",
    "        mod = sm.OLS(Y,sm.add_constant(X))\n",
    "        res = mod.fit()\n",
    "        slope_estimates = slope_estimates + [res.params[1]]\n",
    "    write_csv(f'./mt_4_1{n}.csv',X,Y)\n",
    "np.mean(slope_estimates)\n",
    "plt.hist(slope_estimates)\n",
    "\n",
    "\"\"\"\n",
    "\n",
    "\n",
    "\"\"\""
   ]
  },
  {
   "cell_type": "code",
   "execution_count": 1,
   "metadata": {},
   "outputs": [
    {
     "ename": "NameError",
     "evalue": "name 'gr' is not defined",
     "output_type": "error",
     "traceback": [
      "\u001b[0;31m---------------------------------------------------------------------------\u001b[0m",
      "\u001b[0;31mNameError\u001b[0m                                 Traceback (most recent call last)",
      "\u001b[0;32m/var/folders/37/18qvt__j2gzbv3534qvmt88w0000gn/T/ipykernel_74872/2809525542.py\u001b[0m in \u001b[0;36m<module>\u001b[0;34m\u001b[0m\n\u001b[0;32m----> 1\u001b[0;31m \u001b[0mg\u001b[0m \u001b[0;34m=\u001b[0m \u001b[0mgr\u001b[0m\u001b[0;34m.\u001b[0m\u001b[0mDigraph\u001b[0m\u001b[0;34m(\u001b[0m\u001b[0;34m)\u001b[0m\u001b[0;34m\u001b[0m\u001b[0;34m\u001b[0m\u001b[0m\n\u001b[0m\u001b[1;32m      2\u001b[0m \u001b[0;34m\u001b[0m\u001b[0m\n\u001b[1;32m      3\u001b[0m \u001b[0;34m\u001b[0m\u001b[0m\n\u001b[1;32m      4\u001b[0m \u001b[0mg\u001b[0m\u001b[0;34m.\u001b[0m\u001b[0medge\u001b[0m\u001b[0;34m(\u001b[0m\u001b[0;34m\"overrepresented\"\u001b[0m\u001b[0;34m,\u001b[0m \u001b[0;34m\"outcome\"\u001b[0m\u001b[0;34m)\u001b[0m\u001b[0;34m\u001b[0m\u001b[0;34m\u001b[0m\u001b[0m\n\u001b[1;32m      5\u001b[0m \u001b[0mg\u001b[0m\u001b[0;34m\u001b[0m\u001b[0;34m\u001b[0m\u001b[0m\n",
      "\u001b[0;31mNameError\u001b[0m: name 'gr' is not defined"
     ]
    }
   ],
   "source": [
    "g = gr.Digraph()\n",
    "\n",
    "\n",
    "g.edge(\"overrepresented\", \"outcome\")\n",
    "g"
   ]
  },
  {
   "cell_type": "markdown",
   "metadata": {},
   "source": [
    "When the caution rate is 58, it is 8 lower than the average, that is, 2 standard deviations. According to 3 σ In principle, about 95% of the values are within 2 standard deviations from the mean. Therefore, 2.5% of the values are lower than the mean and more than two standard deviations, and 2.5% of the values are higher than the mean and more than two standard deviations. For 2.5% days of the year, or 9 days, your measured heart rate will be less than 58 beats per minute."
   ]
  },
  {
   "cell_type": "code",
   "execution_count": null,
   "metadata": {},
   "outputs": [],
   "source": [
    "#example"
   ]
  },
  {
   "cell_type": "code",
   "execution_count": 12,
   "metadata": {},
   "outputs": [
    {
     "data": {
      "text/plain": [
       "'\\n\\n\\n'"
      ]
     },
     "execution_count": 12,
     "metadata": {},
     "output_type": "execute_result"
    },
    {
     "data": {
      "image/png": "[encoded data removed]",
      "text/plain": [
       "<Figure size 432x288 with 1 Axes>"
      ]
     },
     "metadata": {
      "needs_background": "light"
     },
     "output_type": "display_data"
    }
   ],
   "source": [
    "#You estimate the treatment effect using the conventional method of comparing the\n",
    "#outcomes of treated and untreated individuals.\n",
    "miu=10\n",
    "sigma=0\n",
    "a=random.gauss(miu,sigma)\n",
    "for n in [100,1000]:\n",
    "    for mc_replication in range(n):\n",
    "        b = np.random.randint(0,n)\n",
    "        X,Y = simulate_data(a, b,n,confounder)\n",
    "        mod = sm.OLS(Y,sm.add_constant(X))\n",
    "        res = mod.fit()\n",
    "        slope_estimates = slope_estimates + [res.params[1]]\n",
    "    write_csv(f'./mt_4_2{n}.csv',X,Y)\n",
    "np.mean(slope_estimates)\n",
    "plt.hist(slope_estimates)\n"
   ]
  },
  {
   "cell_type": "code",
   "execution_count": null,
   "metadata": {},
   "outputs": [],
   "source": [
    "g = gr.Digraph()\n",
    "\n",
    "\n",
    "g.edge(\"overrepresented\", \"outcome\")\n",
    "g"
   ]
  },
  {
   "cell_type": "markdown",
   "metadata": {},
   "source": [
    "Hospital statistics show that the number of days between the actual date of birth and the expected date of delivery of newborns follows the normal distribution of mean M = 0 days and standard deviation s = 15 days"
   ]
  },
  {
   "cell_type": "code",
   "execution_count": null,
   "metadata": {},
   "outputs": [],
   "source": [
    "#example"
   ]
  }
 ],
 "metadata": {
  "interpreter": {
   "hash": "c398e070147ad8b10ab0782413e4a1cc75c4f0e4fe1fbf8786acaac24c8f8424"
  },
  "kernelspec": {
   "display_name": "Python 3 (ipykernel)",
   "language": "python",
   "name": "python3"
  },
  "language_info": {
   "codemirror_mode": {
    "name": "ipython",
    "version": 3
   },
   "file_extension": ".py",
   "mimetype": "text/x-python",
   "name": "python",
   "nbconvert_exporter": "python",
   "pygments_lexer": "ipython3",
   "version": "3.9.7"
  }
 },
 "nbformat": 4,
 "nbformat_minor": 2
}
